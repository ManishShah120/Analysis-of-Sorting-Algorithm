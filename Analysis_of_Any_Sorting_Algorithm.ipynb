{
  "nbformat": 4,
  "nbformat_minor": 0,
  "metadata": {
    "colab": {
      "name": "Analysis of Any Sorting Algorithm.ipynb",
      "provenance": [],
      "collapsed_sections": [],
      "authorship_tag": "ABX9TyO+suZnoeshyNxH4HN1tCuW",
      "include_colab_link": true
    },
    "kernelspec": {
      "name": "python3",
      "display_name": "Python 3"
    }
  },
  "cells": [
    {
      "cell_type": "markdown",
      "metadata": {
        "id": "view-in-github",
        "colab_type": "text"
      },
      "source": [
        "<a href=\"https://colab.research.google.com/github/ManishShah120/Analysis-of-Sorting-Algorithm/blob/master/Analysis_of_Any_Sorting_Algorithm.ipynb\" target=\"_parent\"><img src=\"https://colab.research.google.com/assets/colab-badge.svg\" alt=\"Open In Colab\"/></a>"
      ]
    },
    {
      "cell_type": "markdown",
      "metadata": {
        "id": "WTih7OMMF2Tw",
        "colab_type": "text"
      },
      "source": [
        "# This libraries have to be included for running this program:-"
      ]
    },
    {
      "cell_type": "code",
      "metadata": {
        "id": "xHIUBMSbE43O",
        "colab_type": "code",
        "colab": {}
      },
      "source": [
        "import random\n",
        "import time\n",
        "import matplotlib.pyplot as plt"
      ],
      "execution_count": 0,
      "outputs": []
    },
    {
      "cell_type": "markdown",
      "metadata": {
        "id": "7VsW_AVrGDZN",
        "colab_type": "text"
      },
      "source": [
        "# Storing n Random numbers int the list()"
      ]
    },
    {
      "cell_type": "code",
      "metadata": {
        "id": "nK3wjX-vFCmg",
        "colab_type": "code",
        "colab": {}
      },
      "source": [
        "l = []\n",
        "def storran(n):\n",
        "    for i in range(n):\n",
        "        l.append(random.randint(1,100))"
      ],
      "execution_count": 0,
      "outputs": []
    },
    {
      "cell_type": "markdown",
      "metadata": {
        "id": "lIoSTTiwGKg7",
        "colab_type": "text"
      },
      "source": [
        "# Bubble Sorting Algorithm"
      ]
    },
    {
      "cell_type": "code",
      "metadata": {
        "id": "HzPe59joFLsF",
        "colab_type": "code",
        "colab": {}
      },
      "source": [
        "def bubble():\n",
        "    for i in range(0,len(l)):\n",
        "        for j in range(0,len(l)-i-1):\n",
        "            if l[j] > l[j+1]:\n",
        "                l[j],l[j+1] = l[j+1],l[j]"
      ],
      "execution_count": 0,
      "outputs": []
    },
    {
      "cell_type": "markdown",
      "metadata": {
        "id": "2II6MxQlGQcF",
        "colab_type": "text"
      },
      "source": [
        "# Selection Sorting Algorithm"
      ]
    },
    {
      "cell_type": "code",
      "metadata": {
        "id": "E6h8mmvWFO5F",
        "colab_type": "code",
        "colab": {}
      },
      "source": [
        "def selecte():\n",
        "    for i in range(0, len(l)):\n",
        "        smallest = i\n",
        "        for j in range(i + 1, len(l)):\n",
        "            if l[j] < l[smallest]:\n",
        "                smallest = j\n",
        "        l[i],l[smallest] = l[smallest], l[i]\n",
        "        "
      ],
      "execution_count": 0,
      "outputs": []
    },
    {
      "cell_type": "markdown",
      "metadata": {
        "id": "TjzPlfQKQfqt",
        "colab_type": "text"
      },
      "source": [
        "# Insertion Sorting Algorithm"
      ]
    },
    {
      "cell_type": "code",
      "metadata": {
        "id": "OuDuTt7VQmAb",
        "colab_type": "code",
        "colab": {}
      },
      "source": [
        "def inserte():  \n",
        "    for i in range(1, len(l)): \n",
        "        key = l[i] \n",
        "        j = i-1\n",
        "        while j >= 0 and key < l[j] : \n",
        "                l[j + 1] = l[j] \n",
        "                j -= 1\n",
        "        l[j + 1] = key "
      ],
      "execution_count": 0,
      "outputs": []
    },
    {
      "cell_type": "markdown",
      "metadata": {
        "id": "94fSKFKwGXoW",
        "colab_type": "text"
      },
      "source": [
        "# List of numbers for X_Label"
      ]
    },
    {
      "cell_type": "code",
      "metadata": {
        "id": "vAHwOJOyFRtE",
        "colab_type": "code",
        "colab": {}
      },
      "source": [
        "x_lim = [*range(1000)] # Argument of range should be == number of time sorting functions is being called"
      ],
      "execution_count": 0,
      "outputs": []
    },
    {
      "cell_type": "markdown",
      "metadata": {
        "id": "Traav8ZaGdx9",
        "colab_type": "text"
      },
      "source": [
        "# Calculating the time to sort each list of Random Numbers\n",
        "## For Bubble Sorting"
      ]
    },
    {
      "cell_type": "code",
      "metadata": {
        "id": "-ckkwAPGFUs8",
        "colab_type": "code",
        "colab": {}
      },
      "source": [
        "y_lim = [] #List of the numbers for the Y_Label\n",
        "for i in range(1,1001):\n",
        "    l.clear()\n",
        "    storran(i)\n",
        "    s_time = time.time()# Start Time\n",
        "    #bubble()\n",
        "    selecte()\n",
        "    e_time = time.time()#End Time\n",
        "    y_lim.append(e_time-s_time)\n",
        "    #print(i,\"Elements sorted in:- \",e_time-s_time)# Incase if we want to see the sorting time of each list\n",
        "    #print(l)# To print the lists of all the random numbers"
      ],
      "execution_count": 0,
      "outputs": []
    },
    {
      "cell_type": "markdown",
      "metadata": {
        "id": "TT-vagCSGnio",
        "colab_type": "text"
      },
      "source": [
        "# Plotting the graph to find the time complexity\n",
        "## of Bubble Sorting"
      ]
    },
    {
      "cell_type": "code",
      "metadata": {
        "id": "HjaakrkPFWxE",
        "colab_type": "code",
        "colab": {
          "base_uri": "https://localhost:8080/",
          "height": 312
        },
        "outputId": "c646aa32-d5c5-4821-c5a9-0cc5b948b3d6"
      },
      "source": [
        "plt.xlabel('Iteration')\n",
        "plt.ylabel(\"Time[t]\")\n",
        "plt.plot(x_lim,y_lim)\n",
        "plt.fill_between(x_lim,y_lim,facecolor='c', alpha=0.9)\n",
        "plt.text(300,0.042,'Bubble Sorting O(n^2)',fontsize=15)\n",
        "plt.title(\"Sorting Analysis\")"
      ],
      "execution_count": 8,
      "outputs": [
        {
          "output_type": "execute_result",
          "data": {
            "text/plain": [
              "Text(0.5, 1.0, 'Sorting Analysis')"
            ]
          },
          "metadata": {
            "tags": []
          },
          "execution_count": 8
        },
        {
          "output_type": "display_data",
          "data": {
            "image/png": "[encoded data removed]",
            "text/plain": [
              "<Figure size 432x288 with 1 Axes>"
            ]
          },
          "metadata": {
            "tags": []
          }
        }
      ]
    },
    {
      "cell_type": "markdown",
      "metadata": {
        "id": "7BSoWh0UJT9T",
        "colab_type": "text"
      },
      "source": [
        "# Calculating the time to sort each list of Random Numbers\n",
        "## For Selection Sorting"
      ]
    },
    {
      "cell_type": "code",
      "metadata": {
        "id": "wW3NU0iCJOvG",
        "colab_type": "code",
        "colab": {}
      },
      "source": [
        "y_lim = [] #List of the numbers for the Y_Label\n",
        "for i in range(1,1001):\n",
        "    l.clear()\n",
        "    storran(i)\n",
        "    s_time = time.time()# Start Time\n",
        "    #bubble()\n",
        "    selecte()\n",
        "    e_time = time.time()#End Time\n",
        "    y_lim.append(e_time-s_time)\n",
        "    #print(i,\"Elements sorted in:- \",e_time-s_time)# Incase if we want to see the sorting time of each list\n",
        "    #print(l)# To print the lists of all the random numbers"
      ],
      "execution_count": 0,
      "outputs": []
    },
    {
      "cell_type": "markdown",
      "metadata": {
        "id": "d8qUVVPEJ1tY",
        "colab_type": "text"
      },
      "source": [
        "# Plotting the graph to find the time complexity\n",
        "## of Selection Sorting"
      ]
    },
    {
      "cell_type": "code",
      "metadata": {
        "id": "PSWZ9IXIJ4N3",
        "colab_type": "code",
        "colab": {
          "base_uri": "https://localhost:8080/",
          "height": 312
        },
        "outputId": "2aa3b3cd-0c30-48e8-b250-aceff10c8477"
      },
      "source": [
        "plt.xlabel('Iteration')\n",
        "plt.ylabel(\"Time[t]\")\n",
        "plt.plot(x_lim,y_lim)\n",
        "plt.fill_between(x_lim,y_lim,facecolor='g', alpha=0.9)\n",
        "plt.text(255,0.042,'Selection Sorting O(n^2)',fontsize=15)\n",
        "plt.title(\"Sorting Analysis\")"
      ],
      "execution_count": 10,
      "outputs": [
        {
          "output_type": "execute_result",
          "data": {
            "text/plain": [
              "Text(0.5, 1.0, 'Sorting Analysis')"
            ]
          },
          "metadata": {
            "tags": []
          },
          "execution_count": 10
        },
        {
          "output_type": "display_data",
          "data": {
            "image/png": "[encoded data removed]",
            "text/plain": [
              "<Figure size 432x288 with 1 Axes>"
            ]
          },
          "metadata": {
            "tags": []
          }
        }
      ]
    },
    {
      "cell_type": "markdown",
      "metadata": {
        "id": "HP05tpD1RXwb",
        "colab_type": "text"
      },
      "source": [
        "# Calculating the time to sort each list of Random Numbers\n",
        "## For Insertion Sorting"
      ]
    },
    {
      "cell_type": "code",
      "metadata": {
        "id": "GvpoehVfRYsi",
        "colab_type": "code",
        "colab": {}
      },
      "source": [
        "y_lim = [] #List of the numbers for the Y_Label\n",
        "for i in range(1,1001):\n",
        "    l.clear()\n",
        "    storran(i)\n",
        "    s_time = time.time()# Start Time\n",
        "    #bubble()\n",
        "    #selecte()\n",
        "    inserte()\n",
        "    e_time = time.time()#End Time\n",
        "    y_lim.append(e_time-s_time)\n",
        "    #print(i,\"Elements sorted in:- \",e_time-s_time)# Incase if we want to see the sorting time of each list\n",
        "    #print(l)# To print the lists of all the random numbers"
      ],
      "execution_count": 0,
      "outputs": []
    },
    {
      "cell_type": "markdown",
      "metadata": {
        "id": "X6tZs7FfRyIm",
        "colab_type": "text"
      },
      "source": [
        "# Plotting the graph to find the time complexity\n",
        "## of Insertion Sorting"
      ]
    },
    {
      "cell_type": "code",
      "metadata": {
        "id": "08gDJcTvR0ga",
        "colab_type": "code",
        "colab": {
          "base_uri": "https://localhost:8080/",
          "height": 312
        },
        "outputId": "09310d2a-bc94-450a-9aa2-1dbd6754cc1f"
      },
      "source": [
        "plt.xlabel('Iteration')\n",
        "plt.ylabel(\"Time[t]\")\n",
        "plt.plot(x_lim,y_lim)\n",
        "plt.fill_between(x_lim,y_lim,facecolor='c', alpha=0.9)\n",
        "plt.text(255,0.04,\"Insertion Sorting O(n^2)\",fontsize=15)\n",
        "plt.title(\"Sorting Analysis\")"
      ],
      "execution_count": 12,
      "outputs": [
        {
          "output_type": "execute_result",
          "data": {
            "text/plain": [
              "Text(0.5, 1.0, 'Sorting Analysis')"
            ]
          },
          "metadata": {
            "tags": []
          },
          "execution_count": 12
        },
        {
          "output_type": "display_data",
          "data": {
            "image/png": "[encoded data removed]",
            "text/plain": [
              "<Figure size 432x288 with 1 Axes>"
            ]
          },
          "metadata": {
            "tags": []
          }
        }
      ]
    },
    {
      "cell_type": "markdown",
      "metadata": {
        "id": "YOKm4S87Wckr",
        "colab_type": "text"
      },
      "source": [
        "# Using python3 Inbuilt function to sort the list"
      ]
    },
    {
      "cell_type": "code",
      "metadata": {
        "id": "Eg7CZDnyWiiE",
        "colab_type": "code",
        "colab": {
          "base_uri": "https://localhost:8080/",
          "height": 312
        },
        "outputId": "2e664054-822c-4700-ada4-1ed063bee8d2"
      },
      "source": [
        "y_lim = [] #List of the numbers for the Y_Label\n",
        "for i in range(1,1001):\n",
        "    l.clear()\n",
        "    storran(i)\n",
        "    s_time = time.time()# Start Time\n",
        "    #bubble()\n",
        "    #selecte()\n",
        "    #inserte()\n",
        "    l.sort()\n",
        "    e_time = time.time()#End Time\n",
        "    y_lim.append(e_time-s_time)\n",
        "    #print(i,\"Elements sorted in:- \",e_time-s_time)# Incase if we want to see the sorting time of each list\n",
        "    #print(l)# To print the lists of all the random numbers\n",
        "\n",
        "#Codes to plot the graph    \n",
        "plt.xlabel('Iteration')\n",
        "plt.ylabel(\"Time[t]\")\n",
        "plt.plot(x_lim,y_lim)\n",
        "plt.fill_between(x_lim,y_lim,facecolor='c', alpha=0.9)\n",
        "plt.text(255,0.000009,\"Python3 Inbuilt Sort function\",fontsize=15)\n",
        "plt.title(\"Sorting Analysis\")"
      ],
      "execution_count": 13,
      "outputs": [
        {
          "output_type": "execute_result",
          "data": {
            "text/plain": [
              "Text(0.5, 1.0, 'Sorting Analysis')"
            ]
          },
          "metadata": {
            "tags": []
          },
          "execution_count": 13
        },
        {
          "output_type": "display_data",
          "data": {
            "image/png": "[encoded data removed]",
            "text/plain": [
              "<Figure size 432x288 with 1 Axes>"
            ]
          },
          "metadata": {
            "tags": []
          }
        }
      ]
    }
  ]
}